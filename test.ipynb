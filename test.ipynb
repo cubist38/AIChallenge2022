{
 "cells": [
  {
   "cell_type": "code",
   "execution_count": 4,
   "metadata": {},
   "outputs": [
    {
     "name": "stdout",
     "output_type": "stream",
     "text": [
      "013638.jpg\n",
      "010026.jpg\n",
      "008421.jpg\n",
      "007737.jpg\n",
      "007137.jpg\n",
      "007006.jpg\n",
      " 100% |█████████████████| 164/164 [42.6ms elapsed, 0s remaining, 3.8K samples/s]   \n",
      "Session launched. Run `session.show()` to open the App in a cell output.\n"
     ]
    },
    {
     "data": {
      "text/html": [
       "\n",
       "        <iframe\n",
       "            width=\"100%\"\n",
       "            height=\"800\"\n",
       "            src=\"http://localhost:5151/?context=ipython&subscription=08235dc7-89ab-4257-a9c9-14df46decb8b\"\n",
       "            frameborder=\"0\"\n",
       "            allowfullscreen\n",
       "            \n",
       "        ></iframe>\n",
       "        "
      ],
      "text/plain": [
       "<IPython.lib.display.IFrame at 0x7fa9d8e606a0>"
      ]
     },
     "metadata": {},
     "output_type": "display_data"
    }
   ],
   "source": [
    "import os\n",
    "import fiftyone as fo\n",
    "\n",
    "\n",
    "PATH_KEYFRAME = 'data/demo/KeyFramesC00_V00/'\n",
    "\n",
    "\n",
    "def get_neighbor_frames(video, frameid, delta=100):\n",
    "\n",
    "    def search(frameid, frameid_list):\n",
    "        found_index = -1\n",
    "        l, r = 0, len(frameid_list) - 1\n",
    "        while l <= r:\n",
    "            mid = (l + r)//2\n",
    "            if frameid_list[mid] >= frameid:\n",
    "                print(frameid_list[mid])\n",
    "                found_index = mid\n",
    "                r = mid - 1\n",
    "            else:\n",
    "                l = mid + 1\n",
    "\n",
    "        return found_index\n",
    "\n",
    "    def get_neighbor_list(frameid, frameid_list, delta):\n",
    "        index = search(frameid, frameid_list)\n",
    "        left, right = max(\n",
    "            0, index - delta), min(len(frameid_list), index + delta)\n",
    "        neighbor_frameid_list = frameid_list[left:right]\n",
    "        return neighbor_frameid_list\n",
    "\n",
    "    path_frames_video = os.path.join(PATH_KEYFRAME, video)\n",
    "    frameid_list = sorted(os.listdir(path_frames_video))\n",
    "\n",
    "    neighbor_frameid_list = get_neighbor_list(frameid, frameid_list, delta)\n",
    "    neighbor_frameid_list = [os.path.join(\n",
    "        path_frames_video, file) for file in neighbor_frameid_list]\n",
    "\n",
    "    return neighbor_frameid_list\n",
    "\n",
    "\n",
    "neighbor_frameid_list = get_neighbor_frames(video = 'C00_V0000', frameid = '007006.jpg', delta = 100)\n",
    "neighbor_dataset = fo.Dataset.from_images(\n",
    "    neighbor_frameid_list\n",
    ")\n",
    "\n",
    "for sample in neighbor_dataset:\n",
    "    _, sample['video'], sample['frameid'] = sample['filepath'][:-\n",
    "                                                               4].rsplit('/', 2)\n",
    "    sample.save()\n",
    "\n",
    "\n",
    "neighbor_session = fo.launch_app(neighbor_dataset, auto=False)\n",
    "neighbor_session.show()\n"
   ]
  },
  {
   "cell_type": "code",
   "execution_count": null,
   "metadata": {},
   "outputs": [],
   "source": []
  }
 ],
 "metadata": {
  "kernelspec": {
   "display_name": "Python 3.9.7 ('base')",
   "language": "python",
   "name": "python3"
  },
  "language_info": {
   "codemirror_mode": {
    "name": "ipython",
    "version": 3
   },
   "file_extension": ".py",
   "mimetype": "text/x-python",
   "name": "python",
   "nbconvert_exporter": "python",
   "pygments_lexer": "ipython3",
   "version": "3.9.7"
  },
  "orig_nbformat": 4,
  "vscode": {
   "interpreter": {
    "hash": "a01b3139ca24efc76fe93ca0f6fd5631c22ec2f7f45d68398316348b341d0835"
   }
  }
 },
 "nbformat": 4,
 "nbformat_minor": 2
}
