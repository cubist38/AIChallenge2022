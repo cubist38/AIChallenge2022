{
 "cells": [
  {
   "cell_type": "markdown",
   "metadata": {},
   "source": [
    "## *0. Librabry & Defined functions* ##"
   ]
  },
  {
   "cell_type": "code",
   "execution_count": 19,
   "metadata": {},
   "outputs": [],
   "source": [
    "import fiftyone as fo\n",
    "import clip\n",
    "import torch\n",
    "import json\n",
    "import pandas as pd\n",
    "import os"
   ]
  },
  {
   "cell_type": "code",
   "execution_count": null,
   "metadata": {},
   "outputs": [],
   "source": [
    "PATH_VIDEO = 'data/video'\n",
    "PATH_KEYFRAMES = 'data/keyframes'\n"
   ]
  },
  {
   "cell_type": "code",
   "execution_count": 24,
   "metadata": {
    "jupyter": {
     "source_hidden": true
    },
    "tags": []
   },
   "outputs": [],
   "source": [
    "def combine_df(bonus_df, main_df):\n",
    "    \n",
    "    remain_len_for_main_df = len(main_df) - len(bonus_df)\n",
    "    remain_df = main_df.head(remain_len_for_main_df)\n",
    "\n",
    "    final_df = pd.concat([bonus_df, remain_df], ignore_index = True)\n",
    "    \n",
    "    return final_df\n",
    "\n",
    "def add_confident_samples(dataset, selected_samples, df): # concat above\n",
    "\n",
    "    bonus_video, bonus_frame = [], []\n",
    "    for id_samples in selected_samples:\n",
    "        # Access samples by id sample\n",
    "        sample = dataset[id_samples]\n",
    "\n",
    "        bonus_video.append(sample['video'])\n",
    "        bonus_frame.append(sample['frameid'])\n",
    "\n",
    "    bonus_df = pd.DataFrame({'video': bonus_video, 'frameid': bonus_frame})\n",
    "\n",
    "    return combine_df(bonus_df, df)\n",
    "\n",
    "\n",
    "def get_neighbor_frames(video, frameid, delta=100):\n",
    "\n",
    "    def search(frameid, frameid_list):\n",
    "        found_index = -1\n",
    "        l, r = 0, len(frameid_list) - 1\n",
    "        while l <= r:\n",
    "            mid = (l + r)//2\n",
    "            if frameid_list[mid] >= frameid:\n",
    "                print(frameid_list[mid])\n",
    "                found_index = mid\n",
    "                r = mid - 1\n",
    "            else:\n",
    "                l = mid + 1\n",
    "\n",
    "        return found_index\n",
    "\n",
    "    def get_neighbor_list(frameid, frameid_list, delta):\n",
    "        index = search(frameid, frameid_list)\n",
    "        left, right = max(\n",
    "            0, index - delta), min(len(frameid_list), index + delta)\n",
    "        neighbor_frameid_list = frameid_list[left:right]\n",
    "        return neighbor_frameid_list\n",
    "\n",
    "    path_frames_video = os.path.join(PATH_KEYFRAMES, video)\n",
    "    frameid_list = sorted(os.listdir(path_frames_video))\n",
    "\n",
    "    neighbor_frameid_list = get_neighbor_list(frameid, frameid_list, delta)\n",
    "    neighbor_frameid_list = [os.path.join(\n",
    "        path_frames_video, file) for file in neighbor_frameid_list]\n",
    "\n",
    "    return neighbor_frameid_list\n"
   ]
  },
  {
   "cell_type": "markdown",
   "metadata": {
    "tags": []
   },
   "source": [
    "## *1. Load top samples with highest score from inference notebook* "
   ]
  },
  {
   "cell_type": "code",
   "execution_count": 2,
   "metadata": {},
   "outputs": [],
   "source": [
    "id = 86"
   ]
  },
  {
   "cell_type": "code",
   "execution_count": 3,
   "metadata": {},
   "outputs": [
    {
     "name": "stdout",
     "output_type": "stream",
     "text": [
      "Importing samples...\n",
      " 100% |█████████████████| 500/500 [11.4ms elapsed, 0s remaining, 43.7K samples/s]      \n",
      "Import complete\n"
     ]
    }
   ],
   "source": [
    "dataset = fo.Dataset.from_dir(\n",
    "    dataset_dir='data/result-v3/kaggle/working/{}_top_k_images'.format(id),\n",
    "    dataset_type=fo.types.FiftyOneDataset\n",
    ")\n"
   ]
  },
  {
   "cell_type": "markdown",
   "metadata": {
    "tags": []
   },
   "source": [
    "## *2. Adjust Submission*"
   ]
  },
  {
   "cell_type": "markdown",
   "metadata": {
    "tags": []
   },
   "source": [
    "### 2.1 Launch App"
   ]
  },
  {
   "cell_type": "code",
   "execution_count": 4,
   "metadata": {},
   "outputs": [
    {
     "name": "stdout",
     "output_type": "stream",
     "text": [
      "Session launched. Run `session.show()` to open the App in a cell output.\n"
     ]
    },
    {
     "data": {
      "application/javascript": "window.open('http://localhost:5151/');",
      "text/plain": [
       "<IPython.core.display.Javascript object>"
      ]
     },
     "metadata": {},
     "output_type": "display_data"
    }
   ],
   "source": [
    "session = fo.launch_app(dataset, auto=False)\n",
    "session.open_tab()\n"
   ]
  },
  {
   "cell_type": "code",
   "execution_count": 5,
   "metadata": {},
   "outputs": [
    {
     "data": {
      "text/html": [
       "\n",
       "        <iframe\n",
       "            width=\"100%\"\n",
       "            height=\"800\"\n",
       "            src=\"http://localhost:5151/?context=ipython&subscription=ce29fa9e-ad48-43b0-afeb-1ffc1a5fa6e7\"\n",
       "            frameborder=\"0\"\n",
       "            allowfullscreen\n",
       "            \n",
       "        ></iframe>\n",
       "        "
      ],
      "text/plain": [
       "<IPython.lib.display.IFrame at 0x7f57803be520>"
      ]
     },
     "metadata": {},
     "output_type": "display_data"
    }
   ],
   "source": [
    "session.show()\n"
   ]
  },
  {
   "cell_type": "markdown",
   "metadata": {},
   "source": [
    "### 2.2 Finalize Result "
   ]
  },
  {
   "cell_type": "code",
   "execution_count": 11,
   "metadata": {},
   "outputs": [],
   "source": [
    "df_submission = pd.DataFrame({'video': [], 'frameid': []})"
   ]
  },
  {
   "cell_type": "markdown",
   "metadata": {},
   "source": [
    "#### 2.2.1 Select 100 first samples\n"
   ]
  },
  {
   "cell_type": "code",
   "execution_count": 13,
   "metadata": {},
   "outputs": [],
   "source": [
    "# Select\n",
    "head_100_samples_id = [sample['id'] for sample in dataset][:100]\n",
    "session.select_samples(head_100_samples_id)\n"
   ]
  },
  {
   "cell_type": "code",
   "execution_count": 14,
   "metadata": {},
   "outputs": [],
   "source": [
    "# Get selected samples id\n",
    "selected_samples = session.selected\n",
    "# Add to submission\n",
    "df_submission = add_confident_samples(dataset, selected_samples, df_submission)\n",
    "# Clear selected samples\n",
    "session.clear_selected()\n"
   ]
  },
  {
   "cell_type": "markdown",
   "metadata": {},
   "source": [
    "#### 2.2.2 Modify result"
   ]
  },
  {
   "cell_type": "markdown",
   "metadata": {},
   "source": [
    "Choose (tick select) samples which are reliable <br />\n",
    "<span style=\"color:red\">**Notice**:</span> *The order of samples add to the submission dataframe is equivalent to the order of the user choose*"
   ]
  },
  {
   "cell_type": "code",
   "execution_count": 39,
   "metadata": {},
   "outputs": [],
   "source": [
    "# Select GUI above"
   ]
  },
  {
   "cell_type": "code",
   "execution_count": 16,
   "metadata": {},
   "outputs": [],
   "source": [
    "# Get selected samples id\n",
    "selected_samples = session.selected\n",
    "# Add to submission\n",
    "df_submission = add_confident_samples(dataset, selected_samples, df_submission)\n",
    "# Clear selected samples\n",
    "session.clear_selected()\n"
   ]
  },
  {
   "cell_type": "markdown",
   "metadata": {},
   "source": [
    "*Optional*: If can not find desireable samples, but we suspect some samples that related to answer. Otherwise, skipping below stuff and moving to **Section 3**\n",
    "- **1st alternative method**: 2.2.2.1 Get neighbor frames around that frames -> append to above submission\n",
    "- **2nd alternative method**: 2.2.2.2 Have a timestamp on video which are matched with query -> append to above submission"
   ]
  },
  {
   "cell_type": "markdown",
   "metadata": {
    "jp-MarkdownHeadingCollapsed": true,
    "tags": []
   },
   "source": [
    "##### 2.2.2.1 Select neighbor frames"
   ]
  },
  {
   "cell_type": "markdown",
   "metadata": {},
   "source": [
    "- Input video and frameid of suspected sample"
   ]
  },
  {
   "cell_type": "code",
   "execution_count": 1,
   "metadata": {},
   "outputs": [],
   "source": [
    "video = 'C00_V0000'\n",
    "frameid = '007006.jpg'"
   ]
  },
  {
   "cell_type": "markdown",
   "metadata": {},
   "source": [
    "- Export neighbor frames of suspected sample"
   ]
  },
  {
   "cell_type": "code",
   "execution_count": null,
   "metadata": {},
   "outputs": [],
   "source": [
    "neighbor_frameid_list = get_neighbor_frames(\n",
    "    video=video, frameid=frameid, delta=100)\n",
    "\n",
    "neighbor_dataset = fo.Dataset.from_images(\n",
    "    neighbor_frameid_list\n",
    ")\n",
    "\n",
    "for sample in neighbor_dataset:\n",
    "    _, sample['video'], sample['frameid'] = sample['filepath'][:-\n",
    "                                                               4].rsplit('/', 2)\n",
    "    sample.save()\n",
    "\n",
    "\n",
    "neighbor_session = fo.launch_app(neighbor_dataset, auto=False)\n",
    "neighbor_session.show()\n"
   ]
  },
  {
   "cell_type": "markdown",
   "metadata": {},
   "source": [
    "Visualize and select neighbor that match with query"
   ]
  },
  {
   "cell_type": "code",
   "execution_count": null,
   "metadata": {},
   "outputs": [],
   "source": [
    "# Select\n"
   ]
  },
  {
   "cell_type": "code",
   "execution_count": null,
   "metadata": {},
   "outputs": [],
   "source": [
    "# Get selected samples id\n",
    "selected_samples = neighbor_session.selected\n",
    "# Add to submission\n",
    "df_submission = add_confident_samples(neighbor_dataset, selected_samples, df_submission)\n",
    "# Clear selected samples\n",
    "neighbor_session.clear_selected()"
   ]
  },
  {
   "cell_type": "markdown",
   "metadata": {
    "jp-MarkdownHeadingCollapsed": true,
    "tags": []
   },
   "source": [
    "##### 2.2.2.2 Get frames based on timestamp"
   ]
  },
  {
   "cell_type": "code",
   "execution_count": null,
   "metadata": {},
   "outputs": [],
   "source": [
    "VIDEO = 'C00_V01'\n",
    "TIMESTAMP = '1:01:01'\n",
    "\n",
    "df_bonus_add = get_frame_based_on_timestamp()\n",
    "df_submission = combine_df(df_bonus_add, df_submission)\n",
    "\n"
   ]
  },
  {
   "cell_type": "markdown",
   "metadata": {},
   "source": [
    "## 3. Validate by viewing video"
   ]
  },
  {
   "cell_type": "code",
   "execution_count": null,
   "metadata": {},
   "outputs": [],
   "source": [
    "FRAME = ''\n",
    "VIDEO = ''\n",
    "\n",
    "# get_url = True -> return location url youtube. Otherwise, return location local comp\n",
    "location, timestamp = get_location_timestamp(get_url = False)\n",
    "\n"
   ]
  },
  {
   "cell_type": "markdown",
   "metadata": {},
   "source": [
    "## 4. Export submission "
   ]
  },
  {
   "cell_type": "code",
   "execution_count": 15,
   "metadata": {},
   "outputs": [
    {
     "data": {
      "text/html": [
       "<div>\n",
       "<style scoped>\n",
       "    .dataframe tbody tr th:only-of-type {\n",
       "        vertical-align: middle;\n",
       "    }\n",
       "\n",
       "    .dataframe tbody tr th {\n",
       "        vertical-align: top;\n",
       "    }\n",
       "\n",
       "    .dataframe thead th {\n",
       "        text-align: right;\n",
       "    }\n",
       "</style>\n",
       "<table border=\"1\" class=\"dataframe\">\n",
       "  <thead>\n",
       "    <tr style=\"text-align: right;\">\n",
       "      <th></th>\n",
       "      <th>video</th>\n",
       "      <th>frameid</th>\n",
       "    </tr>\n",
       "  </thead>\n",
       "  <tbody>\n",
       "    <tr>\n",
       "      <th>0</th>\n",
       "      <td>C00_V0000</td>\n",
       "      <td>004126</td>\n",
       "    </tr>\n",
       "    <tr>\n",
       "      <th>1</th>\n",
       "      <td>C00_V0000</td>\n",
       "      <td>004241</td>\n",
       "    </tr>\n",
       "    <tr>\n",
       "      <th>2</th>\n",
       "      <td>C00_V0001</td>\n",
       "      <td>020942</td>\n",
       "    </tr>\n",
       "    <tr>\n",
       "      <th>3</th>\n",
       "      <td>C00_V0003</td>\n",
       "      <td>008117</td>\n",
       "    </tr>\n",
       "    <tr>\n",
       "      <th>4</th>\n",
       "      <td>C00_V0003</td>\n",
       "      <td>021520</td>\n",
       "    </tr>\n",
       "    <tr>\n",
       "      <th>...</th>\n",
       "      <td>...</td>\n",
       "      <td>...</td>\n",
       "    </tr>\n",
       "    <tr>\n",
       "      <th>95</th>\n",
       "      <td>C00_V0075</td>\n",
       "      <td>017468</td>\n",
       "    </tr>\n",
       "    <tr>\n",
       "      <th>96</th>\n",
       "      <td>C00_V0077</td>\n",
       "      <td>025628</td>\n",
       "    </tr>\n",
       "    <tr>\n",
       "      <th>97</th>\n",
       "      <td>C00_V0078</td>\n",
       "      <td>020663</td>\n",
       "    </tr>\n",
       "    <tr>\n",
       "      <th>98</th>\n",
       "      <td>C00_V0079</td>\n",
       "      <td>018961</td>\n",
       "    </tr>\n",
       "    <tr>\n",
       "      <th>99</th>\n",
       "      <td>C00_V0081</td>\n",
       "      <td>007852</td>\n",
       "    </tr>\n",
       "  </tbody>\n",
       "</table>\n",
       "<p>100 rows × 2 columns</p>\n",
       "</div>"
      ],
      "text/plain": [
       "        video frameid\n",
       "0   C00_V0000  004126\n",
       "1   C00_V0000  004241\n",
       "2   C00_V0001  020942\n",
       "3   C00_V0003  008117\n",
       "4   C00_V0003  021520\n",
       "..        ...     ...\n",
       "95  C00_V0075  017468\n",
       "96  C00_V0077  025628\n",
       "97  C00_V0078  020663\n",
       "98  C00_V0079  018961\n",
       "99  C00_V0081  007852\n",
       "\n",
       "[100 rows x 2 columns]"
      ]
     },
     "execution_count": 15,
     "metadata": {},
     "output_type": "execute_result"
    }
   ],
   "source": [
    "df_submission"
   ]
  },
  {
   "cell_type": "code",
   "execution_count": 81,
   "metadata": {},
   "outputs": [],
   "source": [
    "df_submission.to_csv('data/result-v3/submission/query-{}.csv'.format(id),\n",
    "          index=False, header=False)\n"
   ]
  }
 ],
 "metadata": {
  "kernelspec": {
   "display_name": "Python 3 (ipykernel)",
   "language": "python",
   "name": "python3"
  },
  "language_info": {
   "codemirror_mode": {
    "name": "ipython",
    "version": 3
   },
   "file_extension": ".py",
   "mimetype": "text/x-python",
   "name": "python",
   "nbconvert_exporter": "python",
   "pygments_lexer": "ipython3",
   "version": "3.9.7"
  },
  "vscode": {
   "interpreter": {
    "hash": "a01b3139ca24efc76fe93ca0f6fd5631c22ec2f7f45d68398316348b341d0835"
   }
  }
 },
 "nbformat": 4,
 "nbformat_minor": 4
}
